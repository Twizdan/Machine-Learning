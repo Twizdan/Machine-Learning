{
 "cells": [
  {
   "cell_type": "code",
   "execution_count": 130,
   "id": "7073041b",
   "metadata": {},
   "outputs": [],
   "source": [
    "import numpy as np\n",
    "import pandas as pd\n",
    "import matplotlib.pyplot as plt\n",
    "import seaborn as sns"
   ]
  },
  {
   "cell_type": "markdown",
   "id": "14113fd9",
   "metadata": {},
   "source": [
    "# Экзамен. Экзаменационный билет №17\n",
    "## Студент: Кусербаев Карим Ильгамович, ПИ21-4\n",
    "### Датасет: Glass Classification\n",
    "### Вариант 1. Очистка данных и обучение моделей"
   ]
  },
  {
   "cell_type": "markdown",
   "id": "0b356db4",
   "metadata": {},
   "source": [
    "Необходимо подготовить данные и обучить несколько моделей, сравнить их эффективность."
   ]
  },
  {
   "cell_type": "markdown",
   "id": "161fa4a5",
   "metadata": {},
   "source": [
    "Загрузим датасет в Jupyter Notebook"
   ]
  },
  {
   "cell_type": "code",
   "execution_count": 131,
   "id": "53a1272c",
   "metadata": {},
   "outputs": [
    {
     "data": {
      "text/html": [
       "<div>\n",
       "<style scoped>\n",
       "    .dataframe tbody tr th:only-of-type {\n",
       "        vertical-align: middle;\n",
       "    }\n",
       "\n",
       "    .dataframe tbody tr th {\n",
       "        vertical-align: top;\n",
       "    }\n",
       "\n",
       "    .dataframe thead th {\n",
       "        text-align: right;\n",
       "    }\n",
       "</style>\n",
       "<table border=\"1\" class=\"dataframe\">\n",
       "  <thead>\n",
       "    <tr style=\"text-align: right;\">\n",
       "      <th></th>\n",
       "      <th>RI</th>\n",
       "      <th>Na</th>\n",
       "      <th>Mg</th>\n",
       "      <th>Al</th>\n",
       "      <th>Si</th>\n",
       "      <th>K</th>\n",
       "      <th>Ca</th>\n",
       "      <th>Ba</th>\n",
       "      <th>Fe</th>\n",
       "      <th>Type</th>\n",
       "    </tr>\n",
       "  </thead>\n",
       "  <tbody>\n",
       "    <tr>\n",
       "      <th>0</th>\n",
       "      <td>1.52101</td>\n",
       "      <td>13.64</td>\n",
       "      <td>4.49</td>\n",
       "      <td>1.10</td>\n",
       "      <td>71.78</td>\n",
       "      <td>0.06</td>\n",
       "      <td>8.75</td>\n",
       "      <td>0.0</td>\n",
       "      <td>0.0</td>\n",
       "      <td>1</td>\n",
       "    </tr>\n",
       "    <tr>\n",
       "      <th>1</th>\n",
       "      <td>1.51761</td>\n",
       "      <td>13.89</td>\n",
       "      <td>3.60</td>\n",
       "      <td>1.36</td>\n",
       "      <td>72.73</td>\n",
       "      <td>0.48</td>\n",
       "      <td>7.83</td>\n",
       "      <td>0.0</td>\n",
       "      <td>0.0</td>\n",
       "      <td>1</td>\n",
       "    </tr>\n",
       "    <tr>\n",
       "      <th>2</th>\n",
       "      <td>1.51618</td>\n",
       "      <td>13.53</td>\n",
       "      <td>3.55</td>\n",
       "      <td>1.54</td>\n",
       "      <td>72.99</td>\n",
       "      <td>0.39</td>\n",
       "      <td>7.78</td>\n",
       "      <td>0.0</td>\n",
       "      <td>0.0</td>\n",
       "      <td>1</td>\n",
       "    </tr>\n",
       "    <tr>\n",
       "      <th>3</th>\n",
       "      <td>1.51766</td>\n",
       "      <td>13.21</td>\n",
       "      <td>3.69</td>\n",
       "      <td>1.29</td>\n",
       "      <td>72.61</td>\n",
       "      <td>0.57</td>\n",
       "      <td>8.22</td>\n",
       "      <td>0.0</td>\n",
       "      <td>0.0</td>\n",
       "      <td>1</td>\n",
       "    </tr>\n",
       "    <tr>\n",
       "      <th>4</th>\n",
       "      <td>1.51742</td>\n",
       "      <td>13.27</td>\n",
       "      <td>3.62</td>\n",
       "      <td>1.24</td>\n",
       "      <td>73.08</td>\n",
       "      <td>0.55</td>\n",
       "      <td>8.07</td>\n",
       "      <td>0.0</td>\n",
       "      <td>0.0</td>\n",
       "      <td>1</td>\n",
       "    </tr>\n",
       "  </tbody>\n",
       "</table>\n",
       "</div>"
      ],
      "text/plain": [
       "        RI     Na    Mg    Al     Si     K    Ca   Ba   Fe  Type\n",
       "0  1.52101  13.64  4.49  1.10  71.78  0.06  8.75  0.0  0.0     1\n",
       "1  1.51761  13.89  3.60  1.36  72.73  0.48  7.83  0.0  0.0     1\n",
       "2  1.51618  13.53  3.55  1.54  72.99  0.39  7.78  0.0  0.0     1\n",
       "3  1.51766  13.21  3.69  1.29  72.61  0.57  8.22  0.0  0.0     1\n",
       "4  1.51742  13.27  3.62  1.24  73.08  0.55  8.07  0.0  0.0     1"
      ]
     },
     "execution_count": 131,
     "metadata": {},
     "output_type": "execute_result"
    }
   ],
   "source": [
    "data = pd.read_csv('glass.csv')\n",
    "data.head()"
   ]
  },
  {
   "cell_type": "markdown",
   "id": "f0b10e98",
   "metadata": {},
   "source": [
    "Данные состоят из 9 числовых признаков и класса объекта, который будет необходимо предсказать."
   ]
  },
  {
   "cell_type": "markdown",
   "id": "7e040c2d",
   "metadata": {},
   "source": [
    "Решаемая задача: задача классификации"
   ]
  },
  {
   "cell_type": "code",
   "execution_count": 132,
   "id": "0f94ae8c",
   "metadata": {},
   "outputs": [
    {
     "data": {
      "text/plain": [
       "2    76\n",
       "1    70\n",
       "7    29\n",
       "3    17\n",
       "5    13\n",
       "6     9\n",
       "Name: Type, dtype: int64"
      ]
     },
     "execution_count": 132,
     "metadata": {},
     "output_type": "execute_result"
    }
   ],
   "source": [
    "data.Type.value_counts()"
   ]
  },
  {
   "cell_type": "markdown",
   "id": "0514d58f",
   "metadata": {},
   "source": [
    "Всего классов - 6. При небинарной классификации и малом разрыве количества объектов разных классов считаю, что бороться с дисбалансом классов нецелесообразно."
   ]
  },
  {
   "cell_type": "code",
   "execution_count": 133,
   "id": "44e8ef4b",
   "metadata": {},
   "outputs": [
    {
     "data": {
      "text/html": [
       "<div>\n",
       "<style scoped>\n",
       "    .dataframe tbody tr th:only-of-type {\n",
       "        vertical-align: middle;\n",
       "    }\n",
       "\n",
       "    .dataframe tbody tr th {\n",
       "        vertical-align: top;\n",
       "    }\n",
       "\n",
       "    .dataframe thead th {\n",
       "        text-align: right;\n",
       "    }\n",
       "</style>\n",
       "<table border=\"1\" class=\"dataframe\">\n",
       "  <thead>\n",
       "    <tr style=\"text-align: right;\">\n",
       "      <th></th>\n",
       "      <th>RI</th>\n",
       "      <th>Na</th>\n",
       "      <th>Mg</th>\n",
       "      <th>Al</th>\n",
       "      <th>Si</th>\n",
       "      <th>K</th>\n",
       "      <th>Ca</th>\n",
       "      <th>Ba</th>\n",
       "      <th>Fe</th>\n",
       "      <th>Type</th>\n",
       "    </tr>\n",
       "  </thead>\n",
       "  <tbody>\n",
       "    <tr>\n",
       "      <th>count</th>\n",
       "      <td>214.000000</td>\n",
       "      <td>214.000000</td>\n",
       "      <td>214.000000</td>\n",
       "      <td>214.000000</td>\n",
       "      <td>214.000000</td>\n",
       "      <td>214.000000</td>\n",
       "      <td>214.000000</td>\n",
       "      <td>214.000000</td>\n",
       "      <td>214.000000</td>\n",
       "      <td>214.000000</td>\n",
       "    </tr>\n",
       "    <tr>\n",
       "      <th>mean</th>\n",
       "      <td>1.518365</td>\n",
       "      <td>13.407850</td>\n",
       "      <td>2.684533</td>\n",
       "      <td>1.444907</td>\n",
       "      <td>72.650935</td>\n",
       "      <td>0.497056</td>\n",
       "      <td>8.956963</td>\n",
       "      <td>0.175047</td>\n",
       "      <td>0.057009</td>\n",
       "      <td>2.780374</td>\n",
       "    </tr>\n",
       "    <tr>\n",
       "      <th>std</th>\n",
       "      <td>0.003037</td>\n",
       "      <td>0.816604</td>\n",
       "      <td>1.442408</td>\n",
       "      <td>0.499270</td>\n",
       "      <td>0.774546</td>\n",
       "      <td>0.652192</td>\n",
       "      <td>1.423153</td>\n",
       "      <td>0.497219</td>\n",
       "      <td>0.097439</td>\n",
       "      <td>2.103739</td>\n",
       "    </tr>\n",
       "    <tr>\n",
       "      <th>min</th>\n",
       "      <td>1.511150</td>\n",
       "      <td>10.730000</td>\n",
       "      <td>0.000000</td>\n",
       "      <td>0.290000</td>\n",
       "      <td>69.810000</td>\n",
       "      <td>0.000000</td>\n",
       "      <td>5.430000</td>\n",
       "      <td>0.000000</td>\n",
       "      <td>0.000000</td>\n",
       "      <td>1.000000</td>\n",
       "    </tr>\n",
       "    <tr>\n",
       "      <th>25%</th>\n",
       "      <td>1.516522</td>\n",
       "      <td>12.907500</td>\n",
       "      <td>2.115000</td>\n",
       "      <td>1.190000</td>\n",
       "      <td>72.280000</td>\n",
       "      <td>0.122500</td>\n",
       "      <td>8.240000</td>\n",
       "      <td>0.000000</td>\n",
       "      <td>0.000000</td>\n",
       "      <td>1.000000</td>\n",
       "    </tr>\n",
       "    <tr>\n",
       "      <th>50%</th>\n",
       "      <td>1.517680</td>\n",
       "      <td>13.300000</td>\n",
       "      <td>3.480000</td>\n",
       "      <td>1.360000</td>\n",
       "      <td>72.790000</td>\n",
       "      <td>0.555000</td>\n",
       "      <td>8.600000</td>\n",
       "      <td>0.000000</td>\n",
       "      <td>0.000000</td>\n",
       "      <td>2.000000</td>\n",
       "    </tr>\n",
       "    <tr>\n",
       "      <th>75%</th>\n",
       "      <td>1.519157</td>\n",
       "      <td>13.825000</td>\n",
       "      <td>3.600000</td>\n",
       "      <td>1.630000</td>\n",
       "      <td>73.087500</td>\n",
       "      <td>0.610000</td>\n",
       "      <td>9.172500</td>\n",
       "      <td>0.000000</td>\n",
       "      <td>0.100000</td>\n",
       "      <td>3.000000</td>\n",
       "    </tr>\n",
       "    <tr>\n",
       "      <th>max</th>\n",
       "      <td>1.533930</td>\n",
       "      <td>17.380000</td>\n",
       "      <td>4.490000</td>\n",
       "      <td>3.500000</td>\n",
       "      <td>75.410000</td>\n",
       "      <td>6.210000</td>\n",
       "      <td>16.190000</td>\n",
       "      <td>3.150000</td>\n",
       "      <td>0.510000</td>\n",
       "      <td>7.000000</td>\n",
       "    </tr>\n",
       "  </tbody>\n",
       "</table>\n",
       "</div>"
      ],
      "text/plain": [
       "               RI          Na          Mg          Al          Si           K  \\\n",
       "count  214.000000  214.000000  214.000000  214.000000  214.000000  214.000000   \n",
       "mean     1.518365   13.407850    2.684533    1.444907   72.650935    0.497056   \n",
       "std      0.003037    0.816604    1.442408    0.499270    0.774546    0.652192   \n",
       "min      1.511150   10.730000    0.000000    0.290000   69.810000    0.000000   \n",
       "25%      1.516522   12.907500    2.115000    1.190000   72.280000    0.122500   \n",
       "50%      1.517680   13.300000    3.480000    1.360000   72.790000    0.555000   \n",
       "75%      1.519157   13.825000    3.600000    1.630000   73.087500    0.610000   \n",
       "max      1.533930   17.380000    4.490000    3.500000   75.410000    6.210000   \n",
       "\n",
       "               Ca          Ba          Fe        Type  \n",
       "count  214.000000  214.000000  214.000000  214.000000  \n",
       "mean     8.956963    0.175047    0.057009    2.780374  \n",
       "std      1.423153    0.497219    0.097439    2.103739  \n",
       "min      5.430000    0.000000    0.000000    1.000000  \n",
       "25%      8.240000    0.000000    0.000000    1.000000  \n",
       "50%      8.600000    0.000000    0.000000    2.000000  \n",
       "75%      9.172500    0.000000    0.100000    3.000000  \n",
       "max     16.190000    3.150000    0.510000    7.000000  "
      ]
     },
     "execution_count": 133,
     "metadata": {},
     "output_type": "execute_result"
    }
   ],
   "source": [
    "data.describe()"
   ]
  },
  {
   "cell_type": "code",
   "execution_count": 134,
   "id": "8a395ee1",
   "metadata": {},
   "outputs": [
    {
     "name": "stdout",
     "output_type": "stream",
     "text": [
      "<class 'pandas.core.frame.DataFrame'>\n",
      "RangeIndex: 214 entries, 0 to 213\n",
      "Data columns (total 10 columns):\n",
      " #   Column  Non-Null Count  Dtype  \n",
      "---  ------  --------------  -----  \n",
      " 0   RI      214 non-null    float64\n",
      " 1   Na      214 non-null    float64\n",
      " 2   Mg      214 non-null    float64\n",
      " 3   Al      214 non-null    float64\n",
      " 4   Si      214 non-null    float64\n",
      " 5   K       214 non-null    float64\n",
      " 6   Ca      214 non-null    float64\n",
      " 7   Ba      214 non-null    float64\n",
      " 8   Fe      214 non-null    float64\n",
      " 9   Type    214 non-null    int64  \n",
      "dtypes: float64(9), int64(1)\n",
      "memory usage: 16.8 KB\n"
     ]
    }
   ],
   "source": [
    "data.info()"
   ]
  },
  {
   "cell_type": "code",
   "execution_count": 135,
   "id": "aecbbd7c",
   "metadata": {},
   "outputs": [
    {
     "data": {
      "text/plain": [
       "RI      0\n",
       "Na      0\n",
       "Mg      0\n",
       "Al      0\n",
       "Si      0\n",
       "K       0\n",
       "Ca      0\n",
       "Ba      0\n",
       "Fe      0\n",
       "Type    0\n",
       "dtype: int64"
      ]
     },
     "execution_count": 135,
     "metadata": {},
     "output_type": "execute_result"
    }
   ],
   "source": [
    "data.isna().sum()"
   ]
  },
  {
   "cell_type": "markdown",
   "id": "4cfec961",
   "metadata": {},
   "source": [
    "Входные данные не содержат пропусков признаков у объектов, также они все являются числовыми данными"
   ]
  },
  {
   "cell_type": "markdown",
   "id": "50e48e35",
   "metadata": {},
   "source": [
    "Опишем признаки: по названиям столбцов смею предположить, что признаки каждого объекта - это содержание того или иного химического элемента в составе, по которым можно по-разному классифицировать каждцый объект (стекло)"
   ]
  },
  {
   "cell_type": "markdown",
   "id": "d4cc9383",
   "metadata": {},
   "source": [
    "Попробуем узнать количество значений каждого признака, чтобы убедиться, что они количественные"
   ]
  },
  {
   "cell_type": "code",
   "execution_count": 136,
   "id": "afd65b97",
   "metadata": {},
   "outputs": [
    {
     "data": {
      "text/plain": [
       "1.52152    3\n",
       "1.51590    3\n",
       "1.51645    3\n",
       "1.51754    2\n",
       "1.51841    2\n",
       "          ..\n",
       "1.51625    1\n",
       "1.51569    1\n",
       "1.51605    1\n",
       "1.51588    1\n",
       "1.51651    1\n",
       "Name: RI, Length: 178, dtype: int64"
      ]
     },
     "execution_count": 136,
     "metadata": {},
     "output_type": "execute_result"
    }
   ],
   "source": [
    "data.RI.value_counts()"
   ]
  },
  {
   "cell_type": "code",
   "execution_count": 137,
   "id": "6497c42f",
   "metadata": {},
   "outputs": [
    {
     "data": {
      "text/plain": [
       "13.02    5\n",
       "13.21    5\n",
       "13.00    5\n",
       "13.64    4\n",
       "13.33    4\n",
       "        ..\n",
       "13.34    1\n",
       "13.31    1\n",
       "14.17    1\n",
       "13.51    1\n",
       "14.23    1\n",
       "Name: Na, Length: 142, dtype: int64"
      ]
     },
     "execution_count": 137,
     "metadata": {},
     "output_type": "execute_result"
    }
   ],
   "source": [
    "data.Na.value_counts()"
   ]
  },
  {
   "cell_type": "code",
   "execution_count": 138,
   "id": "1027a0aa",
   "metadata": {},
   "outputs": [
    {
     "data": {
      "text/plain": [
       "0.00    42\n",
       "3.48     8\n",
       "3.58     8\n",
       "3.54     8\n",
       "3.52     7\n",
       "        ..\n",
       "2.76     1\n",
       "3.15     1\n",
       "2.90     1\n",
       "3.83     1\n",
       "1.78     1\n",
       "Name: Mg, Length: 94, dtype: int64"
      ]
     },
     "execution_count": 138,
     "metadata": {},
     "output_type": "execute_result"
    }
   ],
   "source": [
    "data.Mg.value_counts()"
   ]
  },
  {
   "cell_type": "code",
   "execution_count": 139,
   "id": "644213a0",
   "metadata": {},
   "outputs": [
    {
     "data": {
      "text/plain": [
       "1.54    8\n",
       "1.19    6\n",
       "1.43    5\n",
       "1.29    5\n",
       "1.23    5\n",
       "       ..\n",
       "1.08    1\n",
       "1.64    1\n",
       "1.61    1\n",
       "1.07    1\n",
       "1.94    1\n",
       "Name: Al, Length: 118, dtype: int64"
      ]
     },
     "execution_count": 139,
     "metadata": {},
     "output_type": "execute_result"
    }
   ],
   "source": [
    "data.Al.value_counts()"
   ]
  },
  {
   "cell_type": "code",
   "execution_count": 140,
   "id": "0a5b840a",
   "metadata": {},
   "outputs": [
    {
     "data": {
      "text/plain": [
       "72.86    4\n",
       "72.99    4\n",
       "73.10    4\n",
       "73.28    4\n",
       "73.11    4\n",
       "        ..\n",
       "73.55    1\n",
       "72.34    1\n",
       "72.26    1\n",
       "73.26    1\n",
       "73.61    1\n",
       "Name: Si, Length: 133, dtype: int64"
      ]
     },
     "execution_count": 140,
     "metadata": {},
     "output_type": "execute_result"
    }
   ],
   "source": [
    "data.Si.value_counts()"
   ]
  },
  {
   "cell_type": "code",
   "execution_count": 141,
   "id": "32f95e21",
   "metadata": {},
   "outputs": [
    {
     "data": {
      "text/plain": [
       "0.00    30\n",
       "0.57    12\n",
       "0.56    11\n",
       "0.60    11\n",
       "0.58    10\n",
       "        ..\n",
       "0.44     1\n",
       "0.07     1\n",
       "0.73     1\n",
       "0.70     1\n",
       "1.41     1\n",
       "Name: K, Length: 65, dtype: int64"
      ]
     },
     "execution_count": 141,
     "metadata": {},
     "output_type": "execute_result"
    }
   ],
   "source": [
    "data.K.value_counts()"
   ]
  },
  {
   "cell_type": "code",
   "execution_count": 142,
   "id": "ce68b97c",
   "metadata": {},
   "outputs": [
    {
     "data": {
      "text/plain": [
       "8.03    5\n",
       "8.43    5\n",
       "9.57    4\n",
       "8.79    4\n",
       "8.44    4\n",
       "       ..\n",
       "9.23    1\n",
       "8.90    1\n",
       "9.13    1\n",
       "8.09    1\n",
       "8.62    1\n",
       "Name: Ca, Length: 143, dtype: int64"
      ]
     },
     "execution_count": 142,
     "metadata": {},
     "output_type": "execute_result"
    }
   ],
   "source": [
    "data.Ca.value_counts()"
   ]
  },
  {
   "cell_type": "code",
   "execution_count": 143,
   "id": "7e0c3cb8",
   "metadata": {},
   "outputs": [
    {
     "data": {
      "text/plain": [
       "0.00    176\n",
       "0.64      2\n",
       "1.57      2\n",
       "0.09      2\n",
       "1.59      2\n",
       "0.11      2\n",
       "3.15      1\n",
       "0.81      1\n",
       "1.64      1\n",
       "1.06      1\n",
       "0.54      1\n",
       "2.88      1\n",
       "1.38      1\n",
       "1.55      1\n",
       "0.67      1\n",
       "1.71      1\n",
       "0.56      1\n",
       "0.63      1\n",
       "0.53      1\n",
       "0.66      1\n",
       "0.61      1\n",
       "0.27      1\n",
       "0.69      1\n",
       "0.40      1\n",
       "0.14      1\n",
       "0.76      1\n",
       "1.68      1\n",
       "1.63      1\n",
       "1.19      1\n",
       "0.24      1\n",
       "2.20      1\n",
       "0.15      1\n",
       "0.06      1\n",
       "1.67      1\n",
       "Name: Ba, dtype: int64"
      ]
     },
     "execution_count": 143,
     "metadata": {},
     "output_type": "execute_result"
    }
   ],
   "source": [
    "data.Ba.value_counts()"
   ]
  },
  {
   "cell_type": "code",
   "execution_count": 144,
   "id": "a4edf613",
   "metadata": {},
   "outputs": [
    {
     "data": {
      "text/plain": [
       "0.00    144\n",
       "0.24      7\n",
       "0.17      7\n",
       "0.09      6\n",
       "0.10      5\n",
       "0.11      4\n",
       "0.16      3\n",
       "0.28      3\n",
       "0.12      3\n",
       "0.22      3\n",
       "0.14      3\n",
       "0.07      3\n",
       "0.19      2\n",
       "0.15      2\n",
       "0.08      2\n",
       "0.06      1\n",
       "0.21      1\n",
       "0.05      1\n",
       "0.51      1\n",
       "0.37      1\n",
       "0.35      1\n",
       "0.25      1\n",
       "0.18      1\n",
       "0.34      1\n",
       "0.29      1\n",
       "0.30      1\n",
       "0.20      1\n",
       "0.32      1\n",
       "0.26      1\n",
       "0.03      1\n",
       "0.31      1\n",
       "0.01      1\n",
       "Name: Fe, dtype: int64"
      ]
     },
     "execution_count": 144,
     "metadata": {},
     "output_type": "execute_result"
    }
   ],
   "source": [
    "data.Fe.value_counts()"
   ]
  },
  {
   "cell_type": "code",
   "execution_count": 145,
   "id": "c03661bf",
   "metadata": {},
   "outputs": [
    {
     "data": {
      "text/plain": [
       "<AxesSubplot:xlabel='Type', ylabel='count'>"
      ]
     },
     "execution_count": 145,
     "metadata": {},
     "output_type": "execute_result"
    },
    {
     "data": {
      "image/png": "[encoded data removed]",
      "text/plain": [
       "<Figure size 828x612 with 1 Axes>"
      ]
     },
     "metadata": {},
     "output_type": "display_data"
    }
   ],
   "source": [
    "sns.countplot(x = data.Type)"
   ]
  },
  {
   "cell_type": "markdown",
   "id": "2633f427",
   "metadata": {},
   "source": [
    "Проверим данные на дупликаты. "
   ]
  },
  {
   "cell_type": "code",
   "execution_count": 146,
   "id": "18f9831a",
   "metadata": {},
   "outputs": [
    {
     "data": {
      "text/plain": [
       "1"
      ]
     },
     "execution_count": 146,
     "metadata": {},
     "output_type": "execute_result"
    }
   ],
   "source": [
    "data.duplicated().sum()"
   ]
  },
  {
   "cell_type": "code",
   "execution_count": 147,
   "id": "3b8bda28",
   "metadata": {},
   "outputs": [
    {
     "data": {
      "text/plain": [
       "0     False\n",
       "1     False\n",
       "2     False\n",
       "3     False\n",
       "4     False\n",
       "5     False\n",
       "6     False\n",
       "7     False\n",
       "8     False\n",
       "9     False\n",
       "10    False\n",
       "11    False\n",
       "12    False\n",
       "13    False\n",
       "14    False\n",
       "15    False\n",
       "16    False\n",
       "17    False\n",
       "18    False\n",
       "19    False\n",
       "20    False\n",
       "21    False\n",
       "22    False\n",
       "23    False\n",
       "24    False\n",
       "25    False\n",
       "26    False\n",
       "27    False\n",
       "28    False\n",
       "29    False\n",
       "30    False\n",
       "31    False\n",
       "32    False\n",
       "33    False\n",
       "34    False\n",
       "35    False\n",
       "36    False\n",
       "37    False\n",
       "38    False\n",
       "39     True\n",
       "40    False\n",
       "41    False\n",
       "42    False\n",
       "43    False\n",
       "44    False\n",
       "45    False\n",
       "46    False\n",
       "47    False\n",
       "48    False\n",
       "49    False\n",
       "dtype: bool"
      ]
     },
     "execution_count": 147,
     "metadata": {},
     "output_type": "execute_result"
    }
   ],
   "source": [
    "data.duplicated().head(50)"
   ]
  },
  {
   "cell_type": "code",
   "execution_count": 148,
   "id": "c7b7e163",
   "metadata": {},
   "outputs": [],
   "source": [
    "data.drop(index = 39, axis = 0, inplace = True)"
   ]
  },
  {
   "cell_type": "code",
   "execution_count": 149,
   "id": "d054cb7e",
   "metadata": {},
   "outputs": [
    {
     "data": {
      "text/plain": [
       "0"
      ]
     },
     "execution_count": 149,
     "metadata": {},
     "output_type": "execute_result"
    }
   ],
   "source": [
    "data.duplicated().sum()"
   ]
  },
  {
   "cell_type": "markdown",
   "id": "7959d014",
   "metadata": {},
   "source": [
    "Построим матрицу корреляции данных"
   ]
  },
  {
   "cell_type": "code",
   "execution_count": 150,
   "id": "4b7f5dd4",
   "metadata": {},
   "outputs": [],
   "source": [
    "sns.set(rc={'figure.figsize':(11.5,8.5)}) #увеличение размера графика"
   ]
  },
  {
   "cell_type": "code",
   "execution_count": 151,
   "id": "31727276",
   "metadata": {},
   "outputs": [
    {
     "data": {
      "image/png": "[encoded data removed]",
      "text/plain": [
       "<Figure size 828x612 with 2 Axes>"
      ]
     },
     "metadata": {},
     "output_type": "display_data"
    }
   ],
   "source": [
    "sns.heatmap(data.corr(), annot=True)\n",
    "plt.show()"
   ]
  },
  {
   "cell_type": "markdown",
   "id": "42d704d8",
   "metadata": {},
   "source": [
    "Можно заметить ярко выраженную корреляцию некоторых признаков, например Ca-RI, Mg-Type (отрицательное значение, значит Type сильно меняет тип из-за Mg), Al-Type, Ba-Type."
   ]
  },
  {
   "cell_type": "code",
   "execution_count": 152,
   "id": "7951f64a",
   "metadata": {},
   "outputs": [
    {
     "data": {
      "text/plain": [
       "<AxesSubplot:xlabel='Na', ylabel='Al'>"
      ]
     },
     "execution_count": 152,
     "metadata": {},
     "output_type": "execute_result"
    },
    {
     "data": {
      "image/png": "[encoded data removed]",
      "text/plain": [
       "<Figure size 828x612 with 1 Axes>"
      ]
     },
     "metadata": {},
     "output_type": "display_data"
    }
   ],
   "source": [
    "sns.scatterplot(data=data, x='Na', y='Al', hue='Type')"
   ]
  },
  {
   "cell_type": "markdown",
   "id": "c75d352a",
   "metadata": {},
   "source": [
    "Вот так выглядит карта классов по параметрам Na, Al, выбрал их за оси из-за сильного влияния на Type. Так как признаков несколько, можно видеть некоторые выбросы, происходящие из-за влияния остальных признаков, которые я не учитывал при построении."
   ]
  },
  {
   "cell_type": "markdown",
   "id": "c31218cc",
   "metadata": {},
   "source": [
    "Разделим данные на признаки и целевую переменную."
   ]
  },
  {
   "cell_type": "code",
   "execution_count": 153,
   "id": "fa5d17cd",
   "metadata": {},
   "outputs": [
    {
     "data": {
      "text/plain": [
       "((213, 9), (213,))"
      ]
     },
     "execution_count": 153,
     "metadata": {},
     "output_type": "execute_result"
    }
   ],
   "source": [
    "X = data.drop('Type', axis=1)\n",
    "y = data.Type\n",
    "X.shape, y.shape"
   ]
  },
  {
   "cell_type": "markdown",
   "id": "e001ed5d",
   "metadata": {},
   "source": [
    "Данные не имеют признаков-объектов и категориальных данных, поэтому использование LabelEncoder и OneHotDummies не нужно. Также признаков достаточное количество, не вижу мысла добавлять новые. Также не вижу смысла использовать метод главных компонент, так как признаков всего 9, это не очень большое количество."
   ]
  },
  {
   "cell_type": "markdown",
   "id": "10f30e63",
   "metadata": {},
   "source": [
    "### Данные не имеют пропусков, но имеют разные диапазоны данных. Нормализуем данные с помощью StandardScaler, почему именно им:\n",
    "\n",
    "- Каждый признак находится в своем определенном диапазоне, но у некоторых данных содержатся нулевые значения - по сути отсутствие какого-либо элемента в составе. Нам важно сохранить не диапазон значений, а различие между 0 и реальным значением. Для этого лучше подойдет StandardScaler, нежели MinMaxScaler, потому что мы рискуем потерять значимость признаков."
   ]
  },
  {
   "cell_type": "code",
   "execution_count": 154,
   "id": "200fad30",
   "metadata": {},
   "outputs": [],
   "source": [
    "from sklearn.preprocessing import StandardScaler"
   ]
  },
  {
   "cell_type": "code",
   "execution_count": 155,
   "id": "4a6fc384",
   "metadata": {},
   "outputs": [],
   "source": [
    "ss = StandardScaler()"
   ]
  },
  {
   "cell_type": "code",
   "execution_count": 156,
   "id": "8d98319b",
   "metadata": {},
   "outputs": [
    {
     "data": {
      "text/plain": [
       "(213, 9)"
      ]
     },
     "execution_count": 156,
     "metadata": {},
     "output_type": "execute_result"
    }
   ],
   "source": [
    "X_scaled = ss.fit_transform(X)\n",
    "X_scaled.shape"
   ]
  },
  {
   "cell_type": "code",
   "execution_count": 157,
   "id": "84a08f7c",
   "metadata": {},
   "outputs": [
    {
     "data": {
      "text/plain": [
       "array([[ 0.87984017,  0.28955813,  1.25723832, ..., -0.14346582,\n",
       "        -0.35380764, -0.58830108],\n",
       "       [-0.24381562,  0.59640332,  0.63931074, ..., -0.79020061,\n",
       "        -0.35380764, -0.58830108],\n",
       "       [-0.71641202,  0.15454625,  0.6045957 , ..., -0.82534924,\n",
       "        -0.35380764, -0.58830108],\n",
       "       ...,\n",
       "       [ 0.76086485,  1.17327228, -1.86017161, ..., -0.36138732,\n",
       "         2.94550057, -0.58830108],\n",
       "       [-0.60735132,  1.19781989, -1.86017161, ..., -0.33326842,\n",
       "         2.80467644, -0.58830108],\n",
       "       [-0.40905912,  1.01371278, -1.86017161, ..., -0.23485225,\n",
       "         3.00585377, -0.58830108]])"
      ]
     },
     "execution_count": 157,
     "metadata": {},
     "output_type": "execute_result"
    }
   ],
   "source": [
    "X_scaled"
   ]
  },
  {
   "cell_type": "markdown",
   "id": "d6b5fe21",
   "metadata": {},
   "source": [
    "Данные нормализованы и готовы к разделению на обучающую и тестовую выборку"
   ]
  },
  {
   "cell_type": "code",
   "execution_count": 158,
   "id": "34a6cf8e",
   "metadata": {},
   "outputs": [],
   "source": [
    "from sklearn.model_selection import train_test_split"
   ]
  },
  {
   "cell_type": "code",
   "execution_count": 159,
   "id": "4f4dc1f3",
   "metadata": {},
   "outputs": [
    {
     "data": {
      "text/plain": [
       "((170, 9), (43, 9), (170,), (43,))"
      ]
     },
     "execution_count": 159,
     "metadata": {},
     "output_type": "execute_result"
    }
   ],
   "source": [
    "X_train, X_test, y_train, y_test = train_test_split(X_scaled, y, test_size=0.2, random_state=1)\n",
    "X_train.shape, X_test.shape, y_train.shape, y_test.shape"
   ]
  },
  {
   "cell_type": "markdown",
   "id": "8d50ce91",
   "metadata": {},
   "source": [
    "Попробуем обучить несколько моделей и сравнить их эффективность. Для более приближенного к реальному результату буду использовать кросс-валидацию. Постараюсь подобрать модели с разными алгоритмами работы. Для метрики будем использовать f1-score, который включает в себя precision и recall, accuracy. "
   ]
  },
  {
   "cell_type": "code",
   "execution_count": 160,
   "id": "a024129f",
   "metadata": {},
   "outputs": [],
   "source": [
    "from sklearn.model_selection import cross_validate\n",
    "from sklearn.neighbors import KNeighborsClassifier\n",
    "from sklearn.ensemble import RandomForestClassifier\n",
    "from sklearn.svm import SVC\n",
    "from sklearn.neural_network import MLPClassifier"
   ]
  },
  {
   "cell_type": "code",
   "execution_count": 161,
   "id": "3ebb00c9",
   "metadata": {},
   "outputs": [],
   "source": [
    "knn = KNeighborsClassifier()\n",
    "rf = RandomForestClassifier()\n",
    "sv = SVC(kernel='rbf')\n",
    "net = MLPClassifier()"
   ]
  },
  {
   "cell_type": "code",
   "execution_count": 162,
   "id": "f5b62700",
   "metadata": {
    "scrolled": true
   },
   "outputs": [
    {
     "name": "stdout",
     "output_type": "stream",
     "text": [
      "Wall time: 3.71 s\n"
     ]
    },
    {
     "data": {
      "text/plain": [
       "(0.6058823529411766, 0.5802568640036669)"
      ]
     },
     "execution_count": 162,
     "metadata": {},
     "output_type": "execute_result"
    }
   ],
   "source": [
    "%%time\n",
    "cv_knn = cross_validate(knn, X_train, y_train, cv=5, n_jobs=-1, scoring=['accuracy', 'f1_weighted'])\n",
    "cv_knn['test_accuracy'].mean(), cv_knn['test_f1_weighted'].mean()"
   ]
  },
  {
   "cell_type": "code",
   "execution_count": 179,
   "id": "83766b0f",
   "metadata": {},
   "outputs": [
    {
     "name": "stdout",
     "output_type": "stream",
     "text": [
      "Wall time: 292 ms\n"
     ]
    },
    {
     "data": {
      "text/plain": [
       "(0.7647058823529411, 0.7525502928444106)"
      ]
     },
     "execution_count": 179,
     "metadata": {},
     "output_type": "execute_result"
    }
   ],
   "source": [
    "%%time\n",
    "cv_rf = cross_validate(rf, X_train, y_train, cv=5, n_jobs=-1, scoring=['accuracy', 'f1_weighted'])\n",
    "cv_rf['test_accuracy'].mean(), cv_rf['test_f1_weighted'].mean()"
   ]
  },
  {
   "cell_type": "code",
   "execution_count": 164,
   "id": "a6bc3acc",
   "metadata": {},
   "outputs": [
    {
     "name": "stdout",
     "output_type": "stream",
     "text": [
      "Wall time: 25 ms\n"
     ]
    },
    {
     "data": {
      "text/plain": [
       "(0.6294117647058823, 0.5993896862291004)"
      ]
     },
     "execution_count": 164,
     "metadata": {},
     "output_type": "execute_result"
    }
   ],
   "source": [
    "%%time\n",
    "cv_sv = cross_validate(sv, X_train, y_train, cv=5, n_jobs=-1, scoring=['accuracy', 'f1_weighted'])\n",
    "cv_sv['test_accuracy'].mean(), cv_sv['test_f1_weighted'].mean()"
   ]
  },
  {
   "cell_type": "code",
   "execution_count": 165,
   "id": "b3d374a9",
   "metadata": {},
   "outputs": [
    {
     "name": "stdout",
     "output_type": "stream",
     "text": [
      "Wall time: 363 ms\n"
     ]
    },
    {
     "data": {
      "text/plain": [
       "(0.6588235294117647, 0.6391139318198142)"
      ]
     },
     "execution_count": 165,
     "metadata": {},
     "output_type": "execute_result"
    }
   ],
   "source": [
    "%%time\n",
    "cv_net = cross_validate(net, X_train, y_train, cv=5, n_jobs=-1, scoring=['accuracy', 'f1_weighted'])\n",
    "cv_net['test_accuracy'].mean(), cv_net['test_f1_weighted'].mean()"
   ]
  },
  {
   "cell_type": "markdown",
   "id": "dc391663",
   "metadata": {},
   "source": [
    "Вывод: лучше всех показала себя модель случайного леса, поэтому предлагаю использовать её далее."
   ]
  },
  {
   "cell_type": "markdown",
   "id": "c840bb46",
   "metadata": {},
   "source": [
    "Теперь необходимо подобрать гиперпараметры для RandomForest. Для начала попробуем найти параметры случайно, чтобы сократить поиск."
   ]
  },
  {
   "cell_type": "code",
   "execution_count": 101,
   "id": "e6df0730",
   "metadata": {},
   "outputs": [
    {
     "name": "stdout",
     "output_type": "stream",
     "text": [
      "Fitting 3 folds for each of 100 candidates, totalling 300 fits\n"
     ]
    },
    {
     "data": {
      "text/plain": [
       "{'n_estimators': 700,\n",
       " 'min_samples_split': 12,\n",
       " 'min_samples_leaf': 2,\n",
       " 'max_features': 'sqrt',\n",
       " 'max_depth': 13,\n",
       " 'bootstrap': False}"
      ]
     },
     "execution_count": 101,
     "metadata": {},
     "output_type": "execute_result"
    }
   ],
   "source": [
    "from sklearn.model_selection import RandomizedSearchCV\n",
    "n_estimators = [int(x) for x in np.linspace(start = 100, stop = 1000, num = 10)]\n",
    "max_features = ['log2', 'sqrt']\n",
    "max_depth = [int(x) for x in np.linspace(start = 1, stop = 15, num = 15)]\n",
    "min_samples_split = [int(x) for x in np.linspace(start = 2, stop = 50, num = 10)]\n",
    "min_samples_leaf = [int(x) for x in np.linspace(start = 2, stop = 50, num = 10)]\n",
    "bootstrap = [True, False]\n",
    "param_dist = {'n_estimators': n_estimators,\n",
    "               'max_features': max_features,\n",
    "               'max_depth': max_depth,\n",
    "               'min_samples_split': min_samples_split,\n",
    "               'min_samples_leaf': min_samples_leaf,\n",
    "               'bootstrap': bootstrap}\n",
    "rs = RandomizedSearchCV(rf, \n",
    "                        param_dist, \n",
    "                        n_iter = 100, \n",
    "                        cv = 3, \n",
    "                        verbose = 1, \n",
    "                        n_jobs=-1, \n",
    "                        random_state=1)\n",
    "rs.fit(X_train, y_train)\n",
    "rs.best_params_"
   ]
  },
  {
   "cell_type": "markdown",
   "id": "10fc0d65",
   "metadata": {},
   "source": [
    "Попробуем использовать эти параметры на обучении"
   ]
  },
  {
   "cell_type": "code",
   "execution_count": 166,
   "id": "4c338f29",
   "metadata": {},
   "outputs": [
    {
     "data": {
      "text/plain": [
       "(0.7529411764705882, 0.7389283759519323)"
      ]
     },
     "execution_count": 166,
     "metadata": {},
     "output_type": "execute_result"
    }
   ],
   "source": [
    "rf2 = RandomForestClassifier(n_estimators=700, min_samples_split=12, min_samples_leaf=3, max_features='sqrt', \n",
    "                            max_depth=15, bootstrap=False)\n",
    "cv_rf2 = cross_validate(rf2, X_train, y_train, cv=5, n_jobs=-1, scoring=['accuracy', 'f1_weighted'])\n",
    "cv_rf2['test_accuracy'].mean(), cv_rf2['test_f1_weighted'].mean()"
   ]
  },
  {
   "cell_type": "markdown",
   "id": "26f5760f",
   "metadata": {},
   "source": [
    "Сравнивая результаты двух моделей, можно заметить, что модель с базовыми настройками показала лучше результат. Это связано с тем, что случайный подбор параметров - это не тонкая настройкая параметров модели, и возможно, мы просто не смогли за столь короткий промежуток времени (1.5 часа идёт экзамен) подобрать лучшие параметры."
   ]
  },
  {
   "cell_type": "markdown",
   "id": "3b049d51",
   "metadata": {},
   "source": [
    "Учитывая это, продолжим использовать первую модель."
   ]
  },
  {
   "cell_type": "code",
   "execution_count": 187,
   "id": "66e82e60",
   "metadata": {},
   "outputs": [],
   "source": [
    "rf.fit(X_train, y_train)\n",
    "y_pred = rf.predict(X_test)"
   ]
  },
  {
   "cell_type": "code",
   "execution_count": 188,
   "id": "fd9d269e",
   "metadata": {},
   "outputs": [],
   "source": [
    "from sklearn.metrics import confusion_matrix, f1_score"
   ]
  },
  {
   "cell_type": "code",
   "execution_count": 189,
   "id": "fcb33d67",
   "metadata": {},
   "outputs": [
    {
     "data": {
      "text/plain": [
       "0.8348357524828113"
      ]
     },
     "execution_count": 189,
     "metadata": {},
     "output_type": "execute_result"
    }
   ],
   "source": [
    "f1_score(y_test, y_pred, average='weighted')"
   ]
  },
  {
   "cell_type": "code",
   "execution_count": 190,
   "id": "85a81501",
   "metadata": {},
   "outputs": [
    {
     "data": {
      "text/plain": [
       "array([[15,  1,  2,  0,  0,  0],\n",
       "       [ 0, 12,  0,  0,  1,  0],\n",
       "       [ 1,  2,  3,  0,  0,  0],\n",
       "       [ 0,  0,  0,  1,  0,  0],\n",
       "       [ 0,  0,  0,  0,  2,  0],\n",
       "       [ 0,  0,  0,  0,  0,  3]], dtype=int64)"
      ]
     },
     "execution_count": 190,
     "metadata": {},
     "output_type": "execute_result"
    }
   ],
   "source": [
    "conf = confusion_matrix(y_test, y_pred)\n",
    "conf"
   ]
  },
  {
   "cell_type": "code",
   "execution_count": 191,
   "id": "a6ba2a39",
   "metadata": {},
   "outputs": [
    {
     "data": {
      "text/plain": [
       "<AxesSubplot:>"
      ]
     },
     "execution_count": 191,
     "metadata": {},
     "output_type": "execute_result"
    },
    {
     "data": {
      "image/png": "[encoded data removed]",
      "text/plain": [
       "<Figure size 828x612 with 2 Axes>"
      ]
     },
     "metadata": {},
     "output_type": "display_data"
    }
   ],
   "source": [
    "sns.heatmap(data=conf, annot=True)"
   ]
  },
  {
   "cell_type": "markdown",
   "id": "9accf2be",
   "metadata": {},
   "source": [
    "Вывод: мы добились хорошего результата для случайного леса. Модель предсказывает довольно точно, учитывая количество классов."
   ]
  }
 ],
 "metadata": {
  "kernelspec": {
   "display_name": "Python 3 (ipykernel)",
   "language": "python",
   "name": "python3"
  },
  "language_info": {
   "codemirror_mode": {
    "name": "ipython",
    "version": 3
   },
   "file_extension": ".py",
   "mimetype": "text/x-python",
   "name": "python",
   "nbconvert_exporter": "python",
   "pygments_lexer": "ipython3",
   "version": "3.9.7"
  }
 },
 "nbformat": 4,
 "nbformat_minor": 5
}
